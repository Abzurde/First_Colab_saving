{
  "nbformat": 4,
  "nbformat_minor": 0,
  "metadata": {
    "colab": {
      "name": "Secondpart__ML_python_DSTI_24/11.ipynb",
      "provenance": [],
      "collapsed_sections": []
    },
    "kernelspec": {
      "name": "python3",
      "display_name": "Python 3"
    },
    "language_info": {
      "name": "python"
    }
  },
  "cells": [
    {
      "cell_type": "code",
      "metadata": {
        "colab": {
          "base_uri": "https://localhost:8080/"
        },
        "id": "9Penj3bofQD4",
        "outputId": "6a856f26-8759-4ca1-d3a2-56f30e9c7c8a"
      },
      "source": [
        "!git clone https://github.com/SteBaum/First_Colab_saving.git\n",
        "#use a repositary of someone\n",
        "#got to github link , and copy the link of the repositary we want"
      ],
      "execution_count": 2,
      "outputs": [
        {
          "output_type": "stream",
          "name": "stdout",
          "text": [
            "fatal: destination path 'First_Colab_saving' already exists and is not an empty directory.\n"
          ]
        }
      ]
    },
    {
      "cell_type": "markdown",
      "metadata": {
        "id": "mPg-xfWqhK2A"
      },
      "source": [
        "##Variables and functions"
      ]
    },
    {
      "cell_type": "code",
      "metadata": {
        "colab": {
          "base_uri": "https://localhost:8080/"
        },
        "id": "W95bM2IWfzcA",
        "outputId": "c9193a61-a281-486d-f9fe-057c56d18234"
      },
      "source": [
        "a = 1+1\n",
        "#output 2\n",
        "#type -> Integer\n",
        "print(a)\n",
        "type(a)"
      ],
      "execution_count": 11,
      "outputs": [
        {
          "output_type": "stream",
          "name": "stdout",
          "text": [
            "2\n"
          ]
        },
        {
          "output_type": "execute_result",
          "data": {
            "text/plain": [
              "int"
            ]
          },
          "metadata": {},
          "execution_count": 11
        }
      ]
    },
    {
      "cell_type": "code",
      "metadata": {
        "colab": {
          "base_uri": "https://localhost:8080/"
        },
        "id": "_6VfGpg5hb1b",
        "outputId": "697f0d0e-835d-4099-9949-5dac5c726259"
      },
      "source": [
        "b = 1+0.5\n",
        "#output 1.5\n",
        "#type -> Float\n",
        "print(b)\n",
        "type(b)"
      ],
      "execution_count": 12,
      "outputs": [
        {
          "output_type": "stream",
          "name": "stdout",
          "text": [
            "1.5\n"
          ]
        },
        {
          "output_type": "execute_result",
          "data": {
            "text/plain": [
              "float"
            ]
          },
          "metadata": {},
          "execution_count": 12
        }
      ]
    },
    {
      "cell_type": "markdown",
      "metadata": {
        "id": "Y531bG6hjM0z"
      },
      "source": [
        "$\\mathbb{N}$"
      ]
    },
    {
      "cell_type": "code",
      "metadata": {
        "colab": {
          "base_uri": "https://localhost:8080/"
        },
        "id": "2aGQcLHJjNkO",
        "outputId": "d2464dc6-f02d-430c-a636-a5750da487be"
      },
      "source": [
        "#add dot at the end of a division\n",
        "1/2."
      ],
      "execution_count": 14,
      "outputs": [
        {
          "output_type": "execute_result",
          "data": {
            "text/plain": [
              "0.5"
            ]
          },
          "metadata": {},
          "execution_count": 14
        }
      ]
    },
    {
      "cell_type": "code",
      "metadata": {
        "colab": {
          "base_uri": "https://localhost:8080/"
        },
        "id": "9mRXXAC5j1z1",
        "outputId": "f7c37dfb-47d0-4c22-ff67-3a717f0535d8"
      },
      "source": [
        "10*10"
      ],
      "execution_count": 15,
      "outputs": [
        {
          "output_type": "execute_result",
          "data": {
            "text/plain": [
              "100"
            ]
          },
          "metadata": {},
          "execution_count": 15
        }
      ]
    },
    {
      "cell_type": "markdown",
      "metadata": {
        "id": "0PJB46W-r_fI"
      },
      "source": [
        "## Concatenate"
      ]
    },
    {
      "cell_type": "code",
      "metadata": {
        "colab": {
          "base_uri": "https://localhost:8080/",
          "height": 35
        },
        "id": "Ws8jhn1ij-0t",
        "outputId": "9c0f9d75-add3-46bc-b6a5-5989e1dd210b"
      },
      "source": [
        "#Concatenate string, the number of quotation mark doesn't matter\n",
        "'Hello' + \" World\""
      ],
      "execution_count": 18,
      "outputs": [
        {
          "output_type": "execute_result",
          "data": {
            "application/vnd.google.colaboratory.intrinsic+json": {
              "type": "string"
            },
            "text/plain": [
              "'Hello World'"
            ]
          },
          "metadata": {},
          "execution_count": 18
        }
      ]
    },
    {
      "cell_type": "code",
      "metadata": {
        "id": "A_0i0IwSkC-9"
      },
      "source": [
        "#We can't concatenate a str with an int or float\n",
        "'Hello' + 3 "
      ],
      "execution_count": null,
      "outputs": []
    },
    {
      "cell_type": "code",
      "metadata": {
        "colab": {
          "base_uri": "https://localhost:8080/",
          "height": 35
        },
        "id": "EIuOYFKDkp3Q",
        "outputId": "a1c639a9-a0e6-4924-faac-5cd72ce65e91"
      },
      "source": [
        "#To be able to concatenate a number with a str, we have to cahnge the number into str with quotation marks\n",
        "'Hello' + ' 3'"
      ],
      "execution_count": 19,
      "outputs": [
        {
          "output_type": "execute_result",
          "data": {
            "application/vnd.google.colaboratory.intrinsic+json": {
              "type": "string"
            },
            "text/plain": [
              "'Hello 3'"
            ]
          },
          "metadata": {},
          "execution_count": 19
        }
      ]
    },
    {
      "cell_type": "code",
      "metadata": {
        "colab": {
          "base_uri": "https://localhost:8080/",
          "height": 35
        },
        "id": "FYA1TE3jk9UO",
        "outputId": "8d34a128-aba5-4f4a-ff79-8f840edc5090"
      },
      "source": [
        "#Variation to concatenate strings and numbers\n",
        "name = \"Bob\"\n",
        "age = 20\n",
        "\"Hello, {}. You are {}.\".format(name, age)"
      ],
      "execution_count": 20,
      "outputs": [
        {
          "output_type": "execute_result",
          "data": {
            "application/vnd.google.colaboratory.intrinsic+json": {
              "type": "string"
            },
            "text/plain": [
              "'Hello, Bob. You are 20.'"
            ]
          },
          "metadata": {},
          "execution_count": 20
        }
      ]
    },
    {
      "cell_type": "code",
      "metadata": {
        "colab": {
          "base_uri": "https://localhost:8080/",
          "height": 35
        },
        "id": "Dsq4Fa_xljMa",
        "outputId": "311695a7-33ba-47fd-e649-ccfa3debde9b"
      },
      "source": [
        "#another way to use format with f\"....\"\n",
        "f\"Hello, {name}. You are {age}.\""
      ],
      "execution_count": 23,
      "outputs": [
        {
          "output_type": "execute_result",
          "data": {
            "application/vnd.google.colaboratory.intrinsic+json": {
              "type": "string"
            },
            "text/plain": [
              "'Hello, Bob. You are 20.'"
            ]
          },
          "metadata": {},
          "execution_count": 23
        }
      ]
    },
    {
      "cell_type": "code",
      "metadata": {
        "id": "gUGfQ_RnmQlE"
      },
      "source": [
        "def concatenate_str_number(a,b):\n",
        "  b = str(b)\n",
        "  return a + b"
      ],
      "execution_count": 28,
      "outputs": []
    },
    {
      "cell_type": "code",
      "metadata": {
        "colab": {
          "base_uri": "https://localhost:8080/",
          "height": 35
        },
        "id": "t5gOVZi8n2dz",
        "outputId": "4acd4770-3271-4196-f1cc-ee1b606fb54d"
      },
      "source": [
        "concatenate_str_number(\"Hello\",3)"
      ],
      "execution_count": 29,
      "outputs": [
        {
          "output_type": "execute_result",
          "data": {
            "application/vnd.google.colaboratory.intrinsic+json": {
              "type": "string"
            },
            "text/plain": [
              "'Hello3'"
            ]
          },
          "metadata": {},
          "execution_count": 29
        }
      ]
    },
    {
      "cell_type": "markdown",
      "metadata": {
        "id": "FwFSwPw-rZGK"
      },
      "source": [
        "If you want to **reuse** a function you need to use the reurn function print oly if the function is used once\n",
        "\n",
        "**Avoid reusing** the names defined in the function as name of variable (this avoid confusion)\n",
        "\n",
        "D'ont use the default name as varaible names (e.g. int, str)"
      ]
    },
    {
      "cell_type": "code",
      "metadata": {
        "id": "vZMqSvwJoWtg"
      },
      "source": [
        ""
      ],
      "execution_count": null,
      "outputs": []
    }
  ]
}